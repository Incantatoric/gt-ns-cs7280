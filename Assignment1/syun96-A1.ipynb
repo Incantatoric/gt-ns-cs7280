{
 "cells": [
  {
   "cell_type": "markdown",
   "id": "ea82c66a",
   "metadata": {},
   "source": [
    "# Assignment 1 Introduction to NetworkX\n",
    "\n",
    "#### Do not add any additional cells in this assignment. If you write additional functions for testing, please remove them before submitting the assignment. All code and comments should be written in between the lines ####IMPLEMENTATION STARTS HERE#### and ####IMPLEMENTATION ENDS HERE####. Please do not remove cell tags (e.g. 'export' and 'test')."
   ]
  },
  {
   "cell_type": "markdown",
   "id": "43c935c4-9018-4f13-9eb1-04fbb0724426",
   "metadata": {},
   "source": [
    "Last updated: 2025 08 20"
   ]
  },
  {
   "cell_type": "markdown",
   "id": "e87c0256",
   "metadata": {},
   "source": [
    "# Setup"
   ]
  },
  {
   "cell_type": "markdown",
   "id": "b06f6d50",
   "metadata": {},
   "source": [
    "Create a conda environment:\n",
    "\n",
    "```bash\n",
    "conda create --name cs7280_env python=3.8 -y\n",
    "```"
   ]
  },
  {
   "cell_type": "markdown",
   "id": "b21dca75",
   "metadata": {},
   "source": [
    "Activate the environment:\n",
    "\n",
    "```bash\n",
    "conda activate cs7280_env\n",
    "```"
   ]
  },
  {
   "cell_type": "markdown",
   "id": "d482d9aa",
   "metadata": {},
   "source": [
    "# Dependencies\n"
   ]
  },
  {
   "cell_type": "markdown",
   "id": "694bdaad",
   "metadata": {},
   "source": [
    "Install the necessary libraries for this assignment after activating your conda environment and navigating to the correct directory.\n",
    "\n",
    "``` bash\n",
    "pip install -r requirements.txt\n",
    "```"
   ]
  },
  {
   "cell_type": "markdown",
   "id": "8ebb32a6-a7a8-4cca-add3-ea070aa367a1",
   "metadata": {},
   "source": [
    "# Imports"
   ]
  },
  {
   "cell_type": "code",
   "execution_count": 144,
   "id": "f4354199",
   "metadata": {
    "tags": [
     "export"
    ]
   },
   "outputs": [],
   "source": [
    "import copy\n",
    "import networkx as nx\n",
    "import numpy as np\n",
    "import random\n",
    "import scipy as sp\n",
    "# Please don't add additional import statements and modify this cell"
   ]
  },
  {
   "cell_type": "markdown",
   "id": "10a4392d-df15-4e16-836f-a22fc9db41f5",
   "metadata": {
    "jp-MarkdownHeadingCollapsed": true
   },
   "source": [
    "# Part 1 <font size=3> [20 pts] Getting Started with NetworkX (US cities network)"
   ]
  },
  {
   "cell_type": "markdown",
   "id": "cc220c9d-8391-4df6-b8e7-05694cbd7d03",
   "metadata": {},
   "source": [
    "## 1.1 <font size=3> [6 pts] Creating graphs with certain properties"
   ]
  },
  {
   "cell_type": "markdown",
   "id": "3cc5c804-f318-4fe8-bbed-e62292e42c2b",
   "metadata": {},
   "source": [
    "In the body of the function below, generate the indicated graphs, with each graph satisfying the properties given in the function's docstring."
   ]
  },
  {
   "cell_type": "code",
   "execution_count": 145,
   "id": "0f926208-ca83-4350-ac44-d923141f8a97",
   "metadata": {
    "tags": [
     "export"
    ]
   },
   "outputs": [],
   "source": [
    "def graphs_with_certain_props() -> (nx.Graph, nx.Graph, nx.Graph, nx.Graph, nx.DiGraph, nx.MultiGraph):\n",
    "    \"\"\"\n",
    "    Behavior\n",
    "        Generates graphs, each of a distinct type\n",
    "        \n",
    "    Returns\n",
    "        simp       networkx Graph             10 node graph, undirected, exactly 21 edges, no self loops, no multi-edges\n",
    "        cycle      networkx Graph             10 node graph, undirected, entire graph is a single cycle\n",
    "        clique     networkx Graph             10 node graph, undirected, in which the entire graph is a clique\n",
    "        star       networkx Graph             10 node graph, undirected, is a star\n",
    "        direct     networkX DiGraph           10 node graph, directed, exactly 9 edges and exactly 1 node of out-degree 0\n",
    "        non_simp   networkX MultiGraph        10 node graph, undirected, exactly 21 edges with \n",
    "                                                exactly 10 of those edges being self loops and \n",
    "                                                exactly 11 edges between the same pair of distinct nodes a and b\n",
    "    \"\"\"\n",
    "    \n",
    "    ####IMPLEMENTATION STARTS HERE####\n",
    "    \n",
    "    #These lines are placeholders\n",
    "    simp = nx.gnm_random_graph(n=10, m=21)\n",
    "    cycle = nx.cycle_graph(10)\n",
    "    clique = nx.complete_graph(10)\n",
    "    star = nx.star_graph(9)\n",
    "\n",
    "    direct = nx.DiGraph()\n",
    "    direct.add_nodes_from(range(10))\n",
    "    direct.add_edges_from([(0, 1), (1, 2), (2, 3), (3, 4), (4, 5), (5, 6), (6, 7), (7, 8), (8, 9)])\n",
    "\n",
    "    non_simp = nx.MultiGraph()\n",
    "    non_simp.add_nodes_from(range(10))\n",
    "    for i in range(10):\n",
    "        non_simp.add_edge(i, i)\n",
    "    for _ in range(11):\n",
    "        non_simp.add_edge(0, 1)\n",
    "    \n",
    "    return simp, cycle, clique, star, direct, non_simp\n",
    "\n",
    "    ####IMPLEMENTATION ENDS HERE####"
   ]
  },
  {
   "cell_type": "markdown",
   "id": "c513ff2c-93e8-42cc-8958-63ce81610615",
   "metadata": {},
   "source": [
    "## 1.2 <font size=3> [4 pts] Relationship between algebraic features of a graph"
   ]
  },
  {
   "cell_type": "markdown",
   "id": "9aeea800-969f-412a-af61-8d8dc898c3df",
   "metadata": {},
   "source": [
    "In the body of the function below, compute the maximum degree among the nodes of the parameter graph `G`."
   ]
  },
  {
   "cell_type": "code",
   "execution_count": 146,
   "id": "326396d1-43e3-4a67-a628-ca8019ef7c9a",
   "metadata": {
    "tags": [
     "export"
    ]
   },
   "outputs": [],
   "source": [
    "def max_degree(G:nx.Graph) -> int:\n",
    "    \"\"\"\n",
    "    Params\n",
    "        G           networkx Graph        an arbitrary undirected graph\n",
    "\n",
    "    Return\n",
    "        max_deg     int                   the maximum degree among all nodes of the graph G\n",
    "    \"\"\"\n",
    "    \n",
    "    ####IMPLEMENTATION STARTS HERE####\n",
    "    \n",
    "    # This is a placeholder\n",
    "    max_deg = max((d for _, d in G.degree()), default=0)\n",
    "\n",
    "    return max_deg\n",
    "\n",
    "    ####IMPLEMENTATION ENDS HERE####"
   ]
  },
  {
   "cell_type": "markdown",
   "id": "1cc0bbed-90a6-43da-a75e-3abc9f00fab5",
   "metadata": {},
   "source": [
    "In the body of the function below, compute the average degree among the nodes of the parameter graph `G`."
   ]
  },
  {
   "cell_type": "code",
   "execution_count": 147,
   "id": "03a7c9ef-32e2-4c2c-978a-f2af8943c946",
   "metadata": {
    "tags": [
     "export"
    ]
   },
   "outputs": [],
   "source": [
    "def avg_degree(G:nx.Graph) -> float:\n",
    "    \"\"\"    \n",
    "    Params\n",
    "        G           networkx Graph        an arbitrary undirected graph\n",
    "\n",
    "    Return\n",
    "        avg_deg     float                 the average degree among all nodes of the graph G\n",
    "    \"\"\"\n",
    "\n",
    "    ####IMPLEMENTATION STARTS HERE####\n",
    "    \n",
    "    # This is a placeholder\n",
    "    n = G.number_of_nodes()\n",
    "    avg_deg = 0.0 if n == 0 else (2 * G.number_of_edges()) / n\n",
    "\n",
    "    return avg_deg\n",
    "\n",
    "    ####IMPLEMENTATION ENDS HERE####"
   ]
  },
  {
   "cell_type": "markdown",
   "id": "26e2d4e8-336c-4ec1-962d-1eec2454cd87",
   "metadata": {},
   "source": [
    "In the body of the function below, compute the leading eigenvalue of adjacency matrix of the parameter graph `G` and then return that value. \n",
    "\n",
    "You may recall from a course in linear algebra that the leading eigenvalue is the eigenvalue of greatest overall magnitude. For example, if a matrix $A$ has eigenvalues $2, -5, 3i,$ and $-4+5i$, these numbers have respective magnitudes of $2, 5, 3$, and $\\sqrt{41}\\approx 6.4$. Thus, the leading eigenvalue is $-4+5i$."
   ]
  },
  {
   "cell_type": "code",
   "execution_count": 148,
   "id": "33150248",
   "metadata": {
    "tags": [
     "export"
    ]
   },
   "outputs": [],
   "source": [
    "def leading_eigenvalue(G:nx.Graph) -> float:\n",
    "    \"\"\"\n",
    "    Params\n",
    "        G         networkx Graph          an arbitrary undirected graph\n",
    "    \n",
    "    Return\n",
    "        eig       float                   the 'leading' eigenvalue of the adjacency matrix \n",
    "    \"\"\"\n",
    "    \n",
    "    ####IMPLEMENTATION STARTS HERE####\n",
    "    \n",
    "    # This is a placeholder\n",
    "    A = nx.to_numpy_array(G, dtype=float, weight=None)\n",
    "    eig = 0.0 if A.size == 0 else float(np.max(np.linalg.eigvalsh(A)))\n",
    "    \n",
    "    return eig\n",
    "\n",
    "    ####IMPLEMENTATION ENDS HERE####"
   ]
  },
  {
   "cell_type": "markdown",
   "id": "d333c846",
   "metadata": {},
   "source": [
    "Let $G$ be a graph and let $\\lambda_1$ be the leading eigenvalue of the adjacency matrix of $G$.\n",
    "\n",
    "Using the functions you've created above, investigate for various graphs how the following values compare:\n",
    "* Maximum degree of $G$\n",
    "* Avgerage degree of $G$\n",
    "* $|\\lambda_1|$\n",
    "\n",
    "These three values should satisfy a compound inequality $a \\leq b \\leq c$, where $a,b,c$ each uniquely take on one of the values above.\n",
    "\n",
    "In the body of the function below, uncomment the return that aligns the values to what you have found in your investigations."
   ]
  },
  {
   "cell_type": "code",
   "execution_count": 149,
   "id": "afa013fe-d715-431c-af67-b44ef3e65670",
   "metadata": {
    "tags": [
     "export"
    ]
   },
   "outputs": [],
   "source": [
    "def algebraic_comparison() -> (str, str, str):\n",
    "    \"\"\"    \n",
    "    Return\n",
    "        ???       str                   the value that takes the place of 'a' in the text discussion above\n",
    "        ???       str                   the value that takes the place of 'b' in the text discussion above\n",
    "        ???       str                   the value that takes the place of 'c' in the text discussion above\n",
    "    \"\"\"\n",
    "    \n",
    "    ####IMPLEMENTATION STARTS HERE####\n",
    "    \n",
    "    max_deg = \"maximum degree\"\n",
    "    avg_deg = \"average degree\"\n",
    "    eig = \"leading eigenvalue\"\n",
    "    \n",
    "    # return max_deg, avg_deg, eig\n",
    "    # return max_deg, eig, avg_deg\n",
    "    # return avg_deg, max_deg, eig\n",
    "    return avg_deg, eig, max_deg\n",
    "    # return eig, max_deg, avg_deg\n",
    "    # return eig, avg_deg, max_deg\n",
    "\n",
    "    ####IMPLEMENTATION ENDS HERE####"
   ]
  },
  {
   "cell_type": "markdown",
   "id": "54e929f1",
   "metadata": {},
   "source": [
    "## 1.3 <font size=3> [2 pts] Loading graph data from a graphml file and checking it"
   ]
  },
  {
   "cell_type": "markdown",
   "id": "745c9d65-529b-455b-867b-2f4f17234179",
   "metadata": {},
   "source": [
    "For the rest of Part 1, we will consider a network of 128 cities in North America (mostly the US, along with a few in Canada), with city names starting with some letter (inclusively) between R and Y. Some examples of the city names included in this network are \"Ravenna, OH\", \"Selma, AL, and \"Wichita, KS\"."
   ]
  },
  {
   "cell_type": "markdown",
   "id": "03f4d0e8-ea19-420e-adba-6ff310ccfac0",
   "metadata": {},
   "source": [
    "Between each pair $(u,v)$ of distinct cities $u$ and $v$ there is an edge (listed either as edge $(u,v)$ or edge $(v,u)$). For the purpose of familiarizing yourself with terminology, note that this network is an example of *clique*. Each edge is assigned a `\"weight\"`, which represents the geographic distance (as the crow flies) between the cities that make up the end points of that edge."
   ]
  },
  {
   "cell_type": "markdown",
   "id": "b19b474f-3661-4bce-8cb5-24dc61a2eb32",
   "metadata": {},
   "source": [
    "In the body of the function below, use NetworkX's [`read_graphml`](https://networkx.org/documentation/stable/reference/readwrite/generated/networkx.readwrite.graphml.read_graphml.html) function to read the `cities_data.graphml` file located within the data folder. Note that the relative path to the file should be `\"data/cities_data.graphml\"`."
   ]
  },
  {
   "cell_type": "code",
   "execution_count": 150,
   "id": "00f7c0d1-fca3-4349-89a3-b81a6d727e96",
   "metadata": {
    "tags": [
     "export"
    ]
   },
   "outputs": [],
   "source": [
    "def load_cities_data() -> nx.Graph:\n",
    "    \"\"\"\n",
    "    Return\n",
    "        G       networkx Graph \n",
    "    \"\"\"\n",
    "    \n",
    "    ####IMPLEMENTATION STARTS HERE####\n",
    "    \n",
    "    # This is a placeholder, load the city data into the variable G\n",
    "    G = nx.read_graphml(\"data/cities_data.graphml\")\n",
    "    \n",
    "    return G\n",
    "\n",
    "    ####IMPLEMENTATION ENDS HERE####"
   ]
  },
  {
   "cell_type": "markdown",
   "id": "82a38c77-884a-4089-b0ec-29e41775df5f",
   "metadata": {},
   "source": [
    "**Sanity Check**\n",
    "\n",
    "You can print the return graph of the function below and what should be shown is text of the form:\n",
    "\n",
    "> Graph with 128 nodes and 8128 edges"
   ]
  },
  {
   "cell_type": "code",
   "execution_count": 151,
   "id": "4978869a-b726-4152-bd04-a2e3c4c38155",
   "metadata": {
    "tags": [
     "test"
    ]
   },
   "outputs": [
    {
     "name": "stdout",
     "output_type": "stream",
     "text": [
      "Graph with 128 nodes and 8128 edges\n"
     ]
    }
   ],
   "source": [
    "print(load_cities_data())"
   ]
  },
  {
   "cell_type": "markdown",
   "id": "780947fd",
   "metadata": {
    "jp-MarkdownHeadingCollapsed": true
   },
   "source": [
    "## 1.4 <font size=3> [3 pts] Weighted graphs"
   ]
  },
  {
   "cell_type": "markdown",
   "id": "0ba0f969-2665-46e4-918a-21647228e3f6",
   "metadata": {},
   "source": [
    "The \"cities_data\" graph is a weighted graph. That is, each edge in the graph is assigned a number, or *weight*. In NetworkX graph objects (including [`Graph`](https://networkx.org/documentation/stable/reference/classes/graph.html), [`DiGraph`](https://networkx.org/documentation/stable/reference/classes/digraph.html), and [`MultiGraph`](https://networkx.org/documentation/stable/reference/classes/multigraph.html)  objects), edges can be assigned properties under any name and data type. These attributes can be accessed using the NetworkX function [`get_edge_attributes`](https://networkx.org/documentation/stable/reference/generated/networkx.classes.function.get_edge_attributes.html). Note that this returns a dictionary, with the keys being the edges (2-tuples) of the graph, and the values being the associated value assigned to that edge."
   ]
  },
  {
   "cell_type": "markdown",
   "id": "3d872e1c-e4b7-416a-b21d-1071636913b0",
   "metadata": {},
   "source": [
    "In the body of the function below, write logic so that the function returns the 'weight' value of the particular parameter edge `e` of the parameter graph `G`. If `e` is not an edge of `G`, then raise an exception `Exception(\"e is not an edge of G\")`."
   ]
  },
  {
   "cell_type": "code",
   "execution_count": 152,
   "id": "8d2e4cee-24ba-47c4-a68d-ca2e2d7f9c81",
   "metadata": {
    "tags": [
     "export"
    ]
   },
   "outputs": [],
   "source": [
    "def get_edge_weight(G:nx.Graph, e) -> int:\n",
    "    \"\"\"\n",
    "    Params\n",
    "        G              networkx Graph          an arbitrary undirected graph\n",
    "        e              2-tuple                 a 2-tuple (a,b), where a,b may be either integers or python strings\n",
    "    \n",
    "    Return\n",
    "        e_weight       int                     the 'weight' value assigned to the edge e\n",
    "    \"\"\"\n",
    "    \n",
    "    ####IMPLEMENTATION STARTS HERE####\n",
    "    \n",
    "    # This is a placeholder\n",
    "    u, v = e\n",
    "    if not G.has_edge(u, v):\n",
    "        raise Exception(\"e is not an edge of G\")\n",
    "\n",
    "    data = G.get_edge_data(u, v)\n",
    "    if data is None or \"weight\" not in data:\n",
    "        raise Exception(\"e is not an edge of G\")\n",
    "\n",
    "    e_weight = data[\"weight\"]\n",
    "    \n",
    "    return e_weight\n",
    "\n",
    "    ####IMPLEMENTATION ENDS HERE####"
   ]
  },
  {
   "cell_type": "markdown",
   "id": "feaeb05f-9095-46d9-80b2-82d154802859",
   "metadata": {},
   "source": [
    "In the body of the function below, write logic so that the function returns the 'weight' (or, in this context, *distance*) between the cities \"Youngstown, OH\" and \"Winston-Salem, NC\"."
   ]
  },
  {
   "cell_type": "code",
   "execution_count": 153,
   "id": "554bc2c1-eddc-47ea-b6c2-b166cca99f3e",
   "metadata": {
    "tags": [
     "export"
    ]
   },
   "outputs": [],
   "source": [
    "def dist_from_YOH_to_WSNC() -> int:\n",
    "    \"\"\"\n",
    "    Return\n",
    "        distance     int          returns the 'weight' (distance) between Youngstown, OH and Winston-Salem, NC\n",
    "    \"\"\"\n",
    "    \n",
    "    ####IMPLEMENTATION STARTS HERE####\n",
    "    \n",
    "    G = load_cities_data()\n",
    "    distance = int(get_edge_weight(G, (\"Youngstown, OH\", \"Winston-Salem, NC\")))\n",
    "    \n",
    "    return distance\n",
    "\n",
    "    ####IMPLEMENTATION ENDS HERE####"
   ]
  },
  {
   "cell_type": "markdown",
   "id": "084d50b5-3e87-4aaf-9668-ceba1e7a5b21",
   "metadata": {},
   "source": [
    "In the body of the function below, compute the number of pairs of cities that are 50 miles or fewer apart."
   ]
  },
  {
   "cell_type": "code",
   "execution_count": 154,
   "id": "3b28c2d8-7672-4f5b-afe2-a76b8c3cc219",
   "metadata": {
    "tags": [
     "export"
    ]
   },
   "outputs": [],
   "source": [
    "def num_cities_within_50() -> int:\n",
    "    \"\"\"\n",
    "    Return\n",
    "        num_cities     int                     number of pairs of cities that are connected by a road that is 50 or fewer miles long\n",
    "    \"\"\"\n",
    "    \n",
    "    # Do not modify the line below\n",
    "    G_cities = load_cities_data()\n",
    "    \n",
    "    ####IMPLEMENTATION STARTS HERE####\n",
    "    \n",
    "    # This is a placeholder\n",
    "    num_cities = sum(\n",
    "        1\n",
    "        for _, _, d in G_cities.edges(data=True)\n",
    "        if float(d.get(\"weight\")) <= 50\n",
    "    )\n",
    "\n",
    "\n",
    "    return num_cities\n",
    "\n",
    "    ####IMPLEMENTATION ENDS HERE####"
   ]
  },
  {
   "cell_type": "markdown",
   "id": "62735260-5191-4f16-8971-2d7816cd5649",
   "metadata": {
    "jp-MarkdownHeadingCollapsed": true
   },
   "source": [
    "## 1.5 <font size=3> [5 pts] Generating subgraphs according to certain conditions"
   ]
  },
  {
   "cell_type": "markdown",
   "id": "bff92a83-8265-4340-96a7-1feed66f0f25",
   "metadata": {},
   "source": [
    "Notationally, let $G$ be the graph corresponding to the `cities_data.graphml` data. Let $V = V(G)$ be the node set of $G$ and $E = E(G)$ be the edge set of $G$.\n",
    "\n",
    "In the body of the function below:\n",
    "1. determine all the cities that are (inclusively) within 100 miles of at least one of the cities in the list `city_list` (which is a list of city names corresponding to the node names is `cities_data.graphml`),\n",
    "2. construct a new graph $S$ where the node set $V_S \\subseteq V$ is exactly the set of cities found in the step above, and the edge set $E_S\\subseteq E$ consists of those edges from $E$ that have endpoints both in $V_S$. "
   ]
  },
  {
   "cell_type": "code",
   "execution_count": 155,
   "id": "77d41614",
   "metadata": {
    "tags": [
     "export"
    ]
   },
   "outputs": [],
   "source": [
    "def subgraph_cities_within_100_of(city_list:list) -> nx.Graph:\n",
    "    \"\"\"\n",
    "    Params\n",
    "    G: NetworkX graph object\n",
    "    city_list: list of strings (names of cities in G)\n",
    "\n",
    "    Output\n",
    "    S: NetworX graph object (subgraph of G that only contains edges between cities in “city_list” and directly neighboring cities that are less than 100 miles away)\n",
    "    \"\"\"\n",
    "    \n",
    "    # Do not modify the line below\n",
    "    G_cities = load_cities_data()\n",
    "\n",
    "    ####IMPLEMENTATION STARTS HERE####\n",
    "    \n",
    "    # Collect nodes\n",
    "    Vs = set(city_list)\n",
    "    for c in city_list:\n",
    "        for _, v, d in G_cities.edges(c, data=True):\n",
    "            if float(d[\"weight\"]) <= 100:\n",
    "                Vs.add(v)\n",
    "\n",
    "    # Collect edges\n",
    "    S = nx.Graph()\n",
    "    S.add_nodes_from(Vs)\n",
    "    for u, v, d in G_cities.edges(data=True):\n",
    "        if u in Vs and v in Vs and float(d[\"weight\"]) <= 100:\n",
    "            S.add_edge(u, v, **d)\n",
    "    \n",
    "    return S\n",
    "\n",
    "    ####IMPLEMENTATION ENDS HERE####"
   ]
  },
  {
   "cell_type": "markdown",
   "id": "108330a8-ab3b-4b45-8106-1204d0ec913b",
   "metadata": {},
   "source": [
    "**Sanity Check**\n",
    "\n",
    "Running the cell below should yield a graph with 7 nodes and 7 edges."
   ]
  },
  {
   "cell_type": "code",
   "execution_count": 156,
   "id": "3e42a711-dac9-4293-9c2a-bbfe095f3474",
   "metadata": {
    "tags": [
     "test"
    ]
   },
   "outputs": [
    {
     "name": "stdout",
     "output_type": "stream",
     "text": [
      "Graph with 7 nodes and 7 edges\n"
     ]
    }
   ],
   "source": [
    "print(subgraph_cities_within_100_of([\"Toledo, OH\", \"Stockton, CA\", \"San Francisco, CA\"]))"
   ]
  },
  {
   "cell_type": "markdown",
   "id": "884c26a6-4d3d-45ab-8222-9ac897807409",
   "metadata": {
    "jp-MarkdownHeadingCollapsed": true
   },
   "source": [
    "# Part 2 <font size=3> [20 pts] Walks and Paths (Les Miserables character network)"
   ]
  },
  {
   "cell_type": "markdown",
   "id": "c6913ede-3afc-4030-aa63-a6c4c1afb843",
   "metadata": {},
   "source": [
    "In Part 2, we will consider the undirected, weighted network of character co-appearances in Victor Hugo’s novel \"Les Miserables'' using “lesmis_data.gml”. The nodes represent characters (as indicated by the labels) and the edges connect pairs of characters that haved appeared together in the same chapter at least once. The weights on the edges represent the number of times those two characters are seen together throughout the novel in total."
   ]
  },
  {
   "cell_type": "markdown",
   "id": "8e284e75-9a49-4221-9d5f-aea0d38490a9",
   "metadata": {
    "jp-MarkdownHeadingCollapsed": true
   },
   "source": [
    "## 2.1 <font size=3> [2 pts] Loading the Data into a Graph"
   ]
  },
  {
   "cell_type": "markdown",
   "id": "45f562fa-52a4-4034-a33e-124e824b0272",
   "metadata": {},
   "source": [
    "In the body of the function below, use NetworkX's [`read_gml`](https://networkx.org/documentation/stable/reference/readwrite/generated/networkx.readwrite.gml.read_gml.html) function to read the `lesmis_data.gml` file located within the data folder. Note that the relative path to the file should be `\"data/lesmis_data.gml\"`."
   ]
  },
  {
   "cell_type": "code",
   "execution_count": 157,
   "id": "ac727aeb-1e3a-4848-8396-cb3f938a2f42",
   "metadata": {
    "tags": [
     "export"
    ]
   },
   "outputs": [],
   "source": [
    "def load_lesmis_data() -> nx.Graph:\n",
    "    \"\"\"\n",
    "    Return\n",
    "        G       networkx Graph\n",
    "    \"\"\"\n",
    "    \n",
    "    ####IMPLEMENTATION STARTS HERE####\n",
    "    \n",
    "    # This is a placeholder\n",
    "    # load the lesmis data as a nx.Graph object into the variable G\n",
    "    G = nx.read_gml(\"data/lesmis_data.gml\", label=\"label\")\n",
    "    \n",
    "    return G\n",
    "\n",
    "    ####IMPLEMENTATION ENDS HERE####"
   ]
  },
  {
   "cell_type": "markdown",
   "id": "4a2a918d-724f-47f0-adef-0cd901efe9c6",
   "metadata": {
    "jp-MarkdownHeadingCollapsed": true
   },
   "source": [
    "## 2.2 <font size=3> [2 pts] Checking Connectedness"
   ]
  },
  {
   "cell_type": "markdown",
   "id": "21f3dff6-b424-476b-9919-4ce687d11a87",
   "metadata": {},
   "source": [
    "In the body of the function below, use NetworkX's [`is_connected`](https://networkx.org/documentation/stable/reference/algorithms/generated/networkx.algorithms.components.is_connected.html) function to determine if the parameter graph `G` is connected or not."
   ]
  },
  {
   "cell_type": "code",
   "execution_count": 158,
   "id": "d463a978-5785-4d76-b056-0acabf4e4820",
   "metadata": {
    "tags": [
     "export"
    ]
   },
   "outputs": [],
   "source": [
    "def graph_is_connected(G:nx.Graph) -> bool:\n",
    "    \"\"\"\n",
    "    Params\n",
    "        G             networkx Graph\n",
    "    \n",
    "    Return\n",
    "        connected     bool                whether the graph is connected or not\n",
    "    \n",
    "    \"\"\"\n",
    "    \n",
    "    ####IMPLEMENTATION STARTS HERE####\n",
    "\n",
    "    # This is a placeholder\n",
    "    connected = nx.is_connected(G)\n",
    "    \n",
    "    return connected\n",
    "\n",
    "    ####IMPLEMENTATION ENDS HERE####"
   ]
  },
  {
   "cell_type": "markdown",
   "id": "f45998ab-b7ff-44b0-86c2-5a50262835b7",
   "metadata": {},
   "source": [
    "## 2.3 <font size=3> [6 pts] Analyzing a Network using Shortest Path Lengths"
   ]
  },
  {
   "cell_type": "markdown",
   "id": "d3e4d921-6a9b-48a3-8a5a-3d830e43fb54",
   "metadata": {},
   "source": [
    "In the body of the function below, compute a return a dictionary where the keys are all the possible node pairs (regardless of whether there is an edge between them or not) of the parameter graph `G` and the value for each node pair is the unweighted length of the shortest path(s) between the two nodes."
   ]
  },
  {
   "cell_type": "code",
   "execution_count": 159,
   "id": "1bff9cdb-5da3-4b07-90e4-9e2fb159f154",
   "metadata": {
    "tags": [
     "export"
    ]
   },
   "outputs": [],
   "source": [
    "def shortest_path_dict(G:nx.Graph) -> dict:\n",
    "    \"\"\"\n",
    "    Params\n",
    "        G                        networkx Graph\n",
    "    \n",
    "    Return\n",
    "        shortest_path_length     dict                dictionary\n",
    "                                                     key:   node pair (a,b), where a,b are nodes of G\n",
    "                                                     value: the shortest unweighted path length (int) from a to b\n",
    "                                                            (fewest number of edges along any path\n",
    "                                                             between a and b)\n",
    "    \"\"\"\n",
    "    \n",
    "    ####IMPLEMENTATION STARTS HERE####\n",
    "    \n",
    "    # This is a placeholder\n",
    "    apspl = nx.all_pairs_shortest_path_length(G)\n",
    "\n",
    "    shortest_path_length = {}\n",
    "    for a, dist_map in apspl:\n",
    "        for b, d in dist_map.items():\n",
    "            shortest_path_length[(a, b)] = d\n",
    "\n",
    "    return shortest_path_length\n",
    "\n",
    "    ####IMPLEMENTATION ENDS HERE####"
   ]
  },
  {
   "cell_type": "markdown",
   "id": "969f4344-ca6c-46c4-a894-bf5e990afafa",
   "metadata": {},
   "source": [
    "In the body of the function below, compute the average shortest path length among all the shortest path lengths in the parameter graph `G`."
   ]
  },
  {
   "cell_type": "code",
   "execution_count": 160,
   "id": "b3ed53d7-e96e-4580-b16e-e6898695425f",
   "metadata": {
    "tags": [
     "export"
    ]
   },
   "outputs": [],
   "source": [
    "def average_shortest_path_length(G:nx.Graph) -> float:\n",
    "    \"\"\"\n",
    "    Params\n",
    "        G           networkx Graph\n",
    "    \n",
    "    Return\n",
    "        aspl        float                  average shortest path length\n",
    "    \"\"\"\n",
    "\n",
    "    ####IMPLEMENTATION STARTS HERE####\n",
    "    \n",
    "    # This is a placeholder\n",
    "    aspl = nx.average_shortest_path_length(G)\n",
    "\n",
    "    return aspl\n",
    "\n",
    "    ####IMPLEMENTATION ENDS HERE####"
   ]
  },
  {
   "cell_type": "markdown",
   "id": "4767c058-32d9-4a63-99a6-d30800649291",
   "metadata": {},
   "source": [
    "In the body of the function below, compute the maximum shortest path length among all the shortest path lengths in the parameter graph `G`."
   ]
  },
  {
   "cell_type": "code",
   "execution_count": 161,
   "id": "be029770-004d-4c85-b993-a2928152dc56",
   "metadata": {
    "tags": [
     "export"
    ]
   },
   "outputs": [],
   "source": [
    "def maximum_shortest_path_length(G:nx.Graph) -> int:\n",
    "    \"\"\"\n",
    "    Params\n",
    "        G           networkx Graph\n",
    "    \n",
    "    Return\n",
    "        mspl        int                    maximum shortest path length\n",
    "    \"\"\"\n",
    "\n",
    "    ####IMPLEMENTATION STARTS HERE####\n",
    "    \n",
    "    # This is a placeholder\n",
    "    mspl = max(shortest_path_dict(G).values())\n",
    "\n",
    "    return mspl\n",
    "\n",
    "    ####IMPLEMENTATION ENDS HERE####"
   ]
  },
  {
   "cell_type": "markdown",
   "id": "d3cbde62-3f49-4207-a5e5-145205f01d7a",
   "metadata": {},
   "source": [
    "## 2.4 <font size=3> [4 pts] Random walks (probability)"
   ]
  },
  {
   "cell_type": "markdown",
   "id": "75d3a0f2-f2fd-4e5b-8d36-997dd27e862c",
   "metadata": {},
   "source": [
    "In the body of the function below, compute a dictionary based on the parameter graph `G` where the keys of the dictionary are the node pairs $(u,v)$ of `G` and the value assigned to node pair $(u,v)$ is the probability $p(u,v)$, defined as $$p(u,v) = \\frac{\\text{weight of edge between } u \\text{ and } v}{\\sum\\limits_{w \\text{ is a neighbor of } u}^{} \\text{weight of edge between } u \\text{ and } w}$$"
   ]
  },
  {
   "cell_type": "markdown",
   "id": "d3ab265e-464c-4726-b33a-c9e1a198bd36",
   "metadata": {},
   "source": [
    "Notes:\n",
    "* Accessing the proper edge attribute for this graph is done via the name `\"value\"` (as opposed to `\"weight\"`, as was used in Part 1).\n",
    "* If there is no edge between $u$ and $v$, then consider the weight to be 0.\n",
    "* One should not expect symmetry for $p$. That is, one should expect generally that $p(u,v) \\neq p(v,u)$."
   ]
  },
  {
   "cell_type": "code",
   "execution_count": 162,
   "id": "1c90c31e-8a0a-4e36-99ab-389da4def7e1",
   "metadata": {
    "tags": [
     "export"
    ]
   },
   "outputs": [],
   "source": [
    "def prob_dict(G:nx.Graph) -> dict:\n",
    "    \"\"\"\n",
    "    Params\n",
    "        G             networkx Graph         arbitrary networkx graph\n",
    "\n",
    "    Return\n",
    "        probs         dict                   dictionary where \n",
    "                                                keys are pairs (a,b) of nodes a,b in G\n",
    "                                                values are the \"value\" (ie weight) of \n",
    "                                                    the edge between a and b OR\n",
    "                                                    0 if there is no such edge\n",
    "    \"\"\"\n",
    "    \n",
    "    ####IMPLEMENTATION STARTS HERE####\n",
    "    \n",
    "    # This is a placeholder\n",
    "    probs = {}\n",
    "    for u in G.nodes():\n",
    "        denom = sum(d[\"value\"] for _, _, d in G.edges(u, data=True))\n",
    "        for v in G.nodes():\n",
    "            data = G.get_edge_data(u, v)\n",
    "            w = data[\"value\"] if (data is not None and \"value\" in data) else 0\n",
    "            probs[(u, v)] = 0.0 if denom == 0 else w / denom\n",
    "\n",
    "    return probs\n",
    "\n",
    "    ####IMPLEMENTATION ENDS HERE####"
   ]
  },
  {
   "cell_type": "markdown",
   "id": "c831dff0-e2df-4286-b0d1-7d4a65636536",
   "metadata": {},
   "source": [
    "**Sanity check**\n",
    "\n",
    "Running the cell below should yield a value of about $\\frac{31}{158}\\approx 0.196$."
   ]
  },
  {
   "cell_type": "code",
   "execution_count": 163,
   "id": "6f67f878-4466-4b73-805c-cc7ad8542acb",
   "metadata": {
    "tags": [
     "test"
    ]
   },
   "outputs": [
    {
     "name": "stdout",
     "output_type": "stream",
     "text": [
      "0.1962025316455696\n"
     ]
    }
   ],
   "source": [
    "print(prob_dict(load_lesmis_data())[(\"Valjean\", \"Cosette\")])"
   ]
  },
  {
   "cell_type": "markdown",
   "id": "985d818a-bf4d-4d95-9442-edbf0330eaee",
   "metadata": {},
   "source": [
    "In the body of the function below, use the probability dictionary `prob_dict` to randomly choose a neighbor node from the given `source_node`."
   ]
  },
  {
   "cell_type": "code",
   "execution_count": 164,
   "id": "8b74eeb3-63ef-4734-859c-363110bf6000",
   "metadata": {
    "tags": [
     "export"
    ]
   },
   "outputs": [],
   "source": [
    "def get_random_next_node(G:nx.Graph, source_node:str) -> str:\n",
    "    \"\"\"\n",
    "    Params\n",
    "        G                  networkx Graph         arbitrary networkx graph\n",
    "        source_node        str                    node in G\n",
    "\n",
    "    Return\n",
    "        next_node          str                    randomly chosen neighbor of source_node\n",
    "                                                  chosen with probability related to edge strength\n",
    "    \"\"\"\n",
    "\n",
    "    ####IMPLEMENTATION STARTS HERE####\n",
    "    \n",
    "    # This is a placeholder\n",
    "    probs = prob_dict(G)\n",
    "    nodes = list(G.nodes())\n",
    "    p = [probs[(source_node, v)] for v in nodes]\n",
    "    next_node = np.random.choice(nodes, p=p)\n",
    "\n",
    "    return next_node\n",
    "\n",
    "    ####IMPLEMENTATION ENDS HERE####"
   ]
  },
  {
   "cell_type": "markdown",
   "id": "b76abcf8-8ae6-4bbf-92ee-4edd8d6397a7",
   "metadata": {},
   "source": [
    "In the body of the function below, compute a single random walk within parameter graph `G` from the source node `source_node` of length `walk_length`. Use the `get_random_next_node` function from above to do so. Return the walk as a *tuple* of length `walk_length + 1` (in a walk traversing $m$ edges, there will be $m+1$ nodes)."
   ]
  },
  {
   "cell_type": "code",
   "execution_count": 165,
   "id": "b5fc55ed-8d81-4702-9826-180459a592f3",
   "metadata": {
    "tags": [
     "export"
    ]
   },
   "outputs": [],
   "source": [
    "def random_walk(G:nx.Graph, source_node:str, walk_length:int) -> tuple:\n",
    "    \"\"\"\n",
    "    Params\n",
    "        G                  networkx Graph         arbitrary networkx graph\n",
    "        source_node        str                    node in G\n",
    "        walk_length        int                    length (in edge distance) of the walk\n",
    "\n",
    "    Return\n",
    "        walk               tuple                  tuple of nodes in G of length walk_length+1\n",
    "    \"\"\"\n",
    "    \n",
    "    ####IMPLEMENTATION STARTS HERE####\n",
    "    \n",
    "    # This is a placeholder\n",
    "    walk = [source_node]\n",
    "    for _ in range(walk_length):\n",
    "        next_node = get_random_next_node(G, walk[-1])\n",
    "        walk.append(next_node)\n",
    "    \n",
    "    return tuple(walk)\n",
    "\n",
    "    ####IMPLEMENTATION ENDS HERE####"
   ]
  },
  {
   "cell_type": "markdown",
   "id": "38463347-c13c-4144-b493-41132d6888f6",
   "metadata": {},
   "source": [
    "## 2.5 <font size=3> [6 pts] Stationary distribution (linear algebra)"
   ]
  },
  {
   "cell_type": "markdown",
   "id": "5601b481-5592-48e5-93dd-67ecdee8d07e",
   "metadata": {},
   "source": [
    "Following the portion of the Canvas lesson **L2: Random Walks** concerning eigenvalues and eigenvectors, let us consider the inherent ordering of the nodes of the lesmis network and $P$ as the transition matrix determined by the `prob_dict` function above applied to the lesmis network.\n",
    "\n",
    "It follows that the stationary distribution $q$ of the lesmis network is a vector such that $(P^T)q = (1)q$, where $P^T$ is the transpose of $P$, $q$ is a $n\\times 1$ column vector, and $n$ is the number of nodes of the lesmis network. By the definition of eigenvector and eigenvalue, $q$ is an eigenvector of $P^T$ corresponding to the eigenvalue of 1."
   ]
  },
  {
   "cell_type": "code",
   "execution_count": 166,
   "id": "920bdba3-58a4-47c6-92aa-ff5be4e0580b",
   "metadata": {
    "tags": [
     "export"
    ]
   },
   "outputs": [],
   "source": [
    "def get_lesmis_P() -> np.ndarray:\n",
    "    \"\"\"\n",
    "    Return\n",
    "        P        numpy ndarray        transition matrix corresponding to the les mis network\n",
    "    \"\"\"\n",
    "\n",
    "    # Do not modify the following three lines\n",
    "    G_lesmis = load_lesmis_data()\n",
    "    G_lesmis_nodes = list(G_lesmis.nodes)\n",
    "    n = len(G_lesmis_nodes)\n",
    "\n",
    "    ####IMPLEMENTATION STARTS HERE####\n",
    "        \n",
    "    # This is a placeholder\n",
    "    probs = prob_dict(G_lesmis)\n",
    "    P = np.zeros((n, n))\n",
    "    for i, u in enumerate(G_lesmis_nodes):\n",
    "        for j, v in enumerate(G_lesmis_nodes):\n",
    "            P[i, j] = probs[(u, v)]\n",
    "    return P\n",
    "\n",
    "    ####IMPLEMENTATION ENDS HERE####"
   ]
  },
  {
   "cell_type": "markdown",
   "id": "6dea962a-24cc-4bdb-a035-001ffe91163a",
   "metadata": {},
   "source": [
    "In the body of the function below, use NumPy's [`numpy.linalg.eig`](https://numpy.org/doc/2.2/reference/generated/numpy.linalg.eig.html) function to compute and return a right eigenvector of $P^T$ of the lesmis netwwork that is associated with the eigenvalue of 1. If an exact eigenvalue of 1 is not found, choose the eigenvalue closest to 1. \n",
    "\n",
    "Make sure the returned eigenvector is normalized (that is has length 1). You may use [`numpy.linalg.norm`](https://numpy.org/doc/2.2/reference/generated/numpy.linalg.norm.html) for this. Also make sure that the majority of the entries are nonnegative."
   ]
  },
  {
   "cell_type": "code",
   "execution_count": 167,
   "id": "5b9891ac-b17d-474a-b573-42c93a8bfd60",
   "metadata": {
    "tags": [
     "export"
    ]
   },
   "outputs": [],
   "source": [
    "def get_an_eigenvector_of_1(M:np.ndarray) -> np.array:\n",
    "    \"\"\"\n",
    "    Params\n",
    "        M              numpy ndarray       arbitrary 2-dimensional array\n",
    "\n",
    "    Return\n",
    "        evec_of_1      numpy array         1-dimensional array that is a normalized\n",
    "                                           eigenvector of M corresponding to an\n",
    "                                           eigenvalue of 1\n",
    "    \"\"\"\n",
    "    \n",
    "    ####IMPLEMENTATION STARTS HERE####\n",
    "    \n",
    "    # This is a placeholder\n",
    "    vals, vecs = np.linalg.eig(M)\n",
    "    idx = np.argmin(np.abs(vals - 1))\n",
    "    evec_of_1 = vecs[:, idx]\n",
    "    evec_of_1 = np.real_if_close(evec_of_1)\n",
    "    evec_of_1 = evec_of_1 / np.linalg.norm(evec_of_1)\n",
    "    if (evec_of_1 < 0).sum() > (evec_of_1 >= 0).sum():\n",
    "        evec_of_1 = -evec_of_1\n",
    "    \n",
    "    return evec_of_1\n",
    "\n",
    "    ####IMPLEMENTATION ENDS HERE####"
   ]
  },
  {
   "cell_type": "markdown",
   "id": "b861a080-fa5b-4e74-a739-440b6f4bcec9",
   "metadata": {},
   "source": [
    "In the body of the function below, use NumPy's [`argmax`](https://numpy.org/doc/2.2/reference/generated/numpy.argmax.html) or [`argpartition`](https://numpy.org/doc/stable/reference/generated/numpy.argpartition.html) to find the top three nodes (ie, occuring les mis characters)."
   ]
  },
  {
   "cell_type": "code",
   "execution_count": 168,
   "id": "0c0f316f-0b64-4a79-9b0a-6453192ae0d5",
   "metadata": {
    "tags": [
     "export"
    ]
   },
   "outputs": [],
   "source": [
    "def top_three_lesmis_chars() -> (str, str, str):\n",
    "    \"\"\"\n",
    "    Return\n",
    "        firstEntry      str       one of the top 3 occuring characters\n",
    "        secondEntry     str       one of the top 3 occuring characters\n",
    "        thirdEntry      str       one of the top 3 occuring characters\n",
    "    \"\"\"\n",
    "\n",
    "    ####IMPLEMENTATION STARTS HERE####\n",
    "    \n",
    "    # This is a placeholder\n",
    "    P = get_lesmis_P()\n",
    "    G = load_lesmis_data()\n",
    "    nodes = list(G.nodes)\n",
    "\n",
    "    evec_of_1 = get_an_eigenvector_of_1(P.T)\n",
    "\n",
    "    top_idx = np.argpartition(evec_of_1, -3)[-3:]\n",
    "    top_idx = top_idx[np.argsort(-evec_of_1[top_idx])]\n",
    "\n",
    "    top_3_chars = [nodes[i] for i in top_idx]\n",
    "\n",
    "    return tuple(top_3_chars)\n",
    "\n",
    "    ####IMPLEMENTATION ENDS HERE####"
   ]
  },
  {
   "cell_type": "markdown",
   "id": "98e5186c-2d8e-4f65-a7c4-cbfcaf824ea8",
   "metadata": {
    "jp-MarkdownHeadingCollapsed": true
   },
   "source": [
    "# Part 3 <font size=3> [20 pts] Connectedness in Directed Graphs (Biological neural network)"
   ]
  },
  {
   "cell_type": "markdown",
   "id": "698fc59f-0c18-4e07-b3ea-e9afce8f13f8",
   "metadata": {},
   "source": [
    "In Part 3, we will look at a directed biological network formed by biological neurons in the optic medulla (a portion of the eye) of a drosophila (a small fruit fly). The nodes of the network are neurons in the optic medulla and the (directed) edges are chemical synapses formed between one neuron and the next. Note the directed nature of the edges due to the bio-chemical structure of biological neurons."
   ]
  },
  {
   "cell_type": "markdown",
   "id": "f2eee0d4-f639-4adb-a771-1b0ef7b74cf6",
   "metadata": {},
   "source": [
    "## 3.1 <font size=3> [2 pts] Loading graph data from a graphml file and checking it"
   ]
  },
  {
   "cell_type": "markdown",
   "id": "e255322d-79fd-42ef-9234-5cdfbd84c35d",
   "metadata": {},
   "source": [
    "In the body of the function below, use NetworkX's [`read_graphml`](https://networkx.org/documentation/stable/reference/readwrite/generated/networkx.readwrite.graphml.read_graphml.html) function to read the `drosophila_medulla_data.graphml` file located within the data folder. Note that the relative path to the file should be `\"data/drosophila_medulla_data.graphml\"`."
   ]
  },
  {
   "cell_type": "code",
   "execution_count": 169,
   "id": "031923a5-17b0-4ead-b64a-d3e37df45ad1",
   "metadata": {
    "tags": [
     "export"
    ]
   },
   "outputs": [],
   "source": [
    "def load_drosophila_medulla_data() -> nx.MultiDiGraph:\n",
    "    \"\"\"\n",
    "    Return\n",
    "        G       networkx MultiDiGraph \n",
    "    \"\"\"\n",
    "\n",
    "    ####IMPLEMENTATION STARTS HERE####\n",
    "    \n",
    "    # this is a placeholder, load the drosophila_medulla data into a graph, G\n",
    "    G = nx.read_graphml(\"data/drosophila_medulla_data.graphml\")\n",
    "\n",
    "    return G\n",
    "\n",
    "    ####IMPLEMENTATION ENDS HERE####"
   ]
  },
  {
   "cell_type": "markdown",
   "id": "bdb188f7-25c9-4efb-acae-f14179784199",
   "metadata": {},
   "source": [
    "**Sanity Check**\n",
    "\n",
    "You can print the return graph of the function below and what should be shown is text of the form:\n",
    "\n",
    "> MultiDiGraph with 1781 nodes and 33641 edges"
   ]
  },
  {
   "cell_type": "code",
   "execution_count": 170,
   "id": "9d71889e-e79a-4364-b8b8-0515a9fd2661",
   "metadata": {
    "tags": [
     "test"
    ]
   },
   "outputs": [
    {
     "name": "stdout",
     "output_type": "stream",
     "text": [
      "MultiDiGraph with 1781 nodes and 33641 edges\n"
     ]
    }
   ],
   "source": [
    "print(load_drosophila_medulla_data())"
   ]
  },
  {
   "cell_type": "markdown",
   "id": "a128cd55-35a6-4fa6-9a29-28e22093ed97",
   "metadata": {},
   "source": [
    "## 3.2 <font size=3> [6 pts] Weakly connected components"
   ]
  },
  {
   "cell_type": "markdown",
   "id": "ba11e35f-3072-43c1-afb1-0b82f1bbea7b",
   "metadata": {},
   "source": [
    "Using functions from the [Components](https://networkx.org/documentation/stable/reference/algorithms/component.html) suite of NetworkX, fill in logic in the body of the function below so that it:\n",
    "1. finds the *weakly* connected components of this network,\n",
    "2. stores the number of these components in the variable `wccs`\n",
    "3. stores the component with the highest node count as a subnetwork in variable `LWCC`,\n",
    "4. finds the ratio of nodes stored in `LWCC` versus the parameter network `G` and stores that value in variable `wpct`"
   ]
  },
  {
   "cell_type": "code",
   "execution_count": 171,
   "id": "20c52a69-3911-4fbf-813c-0ab5fdd331d7",
   "metadata": {
    "tags": [
     "export"
    ]
   },
   "outputs": [],
   "source": [
    "def weak_connectedness(G:nx.MultiDiGraph) -> (int, float, nx.Graph):\n",
    "    \"\"\"\n",
    "    Params\n",
    "        G            networkx MultiDiGraph \n",
    "\n",
    "    Return\n",
    "        wccs         int                       number of weakly connected components in the graph\n",
    "        wpct         float                     percent of nodes in the graph that belong to the largest weakly connected component\n",
    "        LWCC         networkx Graph            largest weakly connected component\n",
    "    \"\"\"\n",
    "\n",
    "    ####IMPLEMENTATION STARTS HERE####\n",
    "    \n",
    "    # These lines are placeholders\n",
    "    comps = list(nx.weakly_connected_components(G))\n",
    "    wccs = len(comps)\n",
    "    largest = max(comps, key=len)\n",
    "    LWCC = nx.Graph(G.subgraph(largest))\n",
    "    wpct = LWCC.number_of_nodes() / G.number_of_nodes()\n",
    "\n",
    "    return wccs, wpct, LWCC\n",
    "\n",
    "    ####IMPLEMENTATION ENDS HERE####"
   ]
  },
  {
   "cell_type": "markdown",
   "id": "db8ed354-0e85-4994-8889-433070b87d5c",
   "metadata": {},
   "source": [
    "## 3.3 <font size=3> [6 pts] Strongly connected components"
   ]
  },
  {
   "cell_type": "markdown",
   "id": "c1f488d0-3387-4027-a061-fc29e5d6cc17",
   "metadata": {},
   "source": [
    "Using functions from the [Components](https://networkx.org/documentation/stable/reference/algorithms/component.html) suite of NetworkX, fill in logic in the body of the function below so that it:\n",
    "1. finds the *strongly* connected components of this network,\n",
    "2. stores the number of these components in the variable `sccs`\n",
    "3. stores the component with the highest node count as a subnetwork in variable `LSCC`,\n",
    "4. finds the ratio of nodes stored in `LSCC` versus the parameter network `G` and stores that value in variable `spct`"
   ]
  },
  {
   "cell_type": "code",
   "execution_count": 172,
   "id": "5383abc6-1bf0-4459-951b-1bdbbf7d9e7b",
   "metadata": {
    "tags": [
     "export"
    ]
   },
   "outputs": [],
   "source": [
    "def strong_connectedness(G:nx.MultiDiGraph) -> (int, float, nx.MultiDiGraph):\n",
    "    \"\"\"\n",
    "    Params\n",
    "        G            networkx MultiDiGraph \n",
    "\n",
    "    Return\n",
    "        sccs         int                          number of strongly connected components in the graph\n",
    "        spct         float                        percent of nodes in the graph that belong to the largest strongly connected component\n",
    "        LSCC         networkx MultiDiGraph        largest strongly connected component of G\n",
    "    \"\"\"\n",
    "    \n",
    "    ####IMPLEMENTATION STARTS HERE####\n",
    "\n",
    "    # These lines are placeholders\n",
    "    comps = list(nx.strongly_connected_components(G))\n",
    "    sccs = len(comps)\n",
    "    largest = max(comps, key=len)\n",
    "    LSCC = G.subgraph(largest).copy()\n",
    "    spct = LSCC.number_of_nodes() / G.number_of_nodes()\n",
    "        \n",
    "    return sccs, spct, LSCC\n",
    "\n",
    "    ####IMPLEMENTATION ENDS HERE####"
   ]
  },
  {
   "cell_type": "markdown",
   "id": "e8de938d-e06e-407f-b425-c72a1de10f30",
   "metadata": {},
   "source": [
    "## 3.4 <font size=3> [6 pts] Weak connectedness vs Strong connectedness"
   ]
  },
  {
   "cell_type": "markdown",
   "id": "a24d94c5-4776-4817-8261-86fd9235d179",
   "metadata": {},
   "source": [
    "In the body of the function below, use the `weak_connectedness` and `strong_connectedness` frunctions to compute three ratios:\n",
    "1. `ratio_size`. This ratio should be the size (number of nodes) of the largest strongly conneced component divided by the size of the largest weakly connected component,\n",
    "2. `ratio_mspl`. This ratio should be the maximum shortest path length of the largest strongly connected component divided by the maximum shortest path length of the largest weakly connected component,\n",
    "3. `ratio_aspl`. This ratio should be the average shortest path length of the largest strongly connected component divided by the average shortest path length of the largest weakly connected component,"
   ]
  },
  {
   "cell_type": "code",
   "execution_count": 173,
   "id": "21c2067f-8ac2-4cd6-a01b-990abb08fe32",
   "metadata": {
    "tags": [
     "export"
    ]
   },
   "outputs": [],
   "source": [
    "def ratios_strong_over_weak(G:nx.MultiDiGraph) -> (float, float, float):\n",
    "    \"\"\"\n",
    "    Params\n",
    "        G                  networkx MultiDiGraph \n",
    "\n",
    "    Return\n",
    "        ratio_size         float                          explained above\n",
    "        ratio_mspl         float                          explained above\n",
    "        ratio_aspl         float                          explained above\n",
    "    \"\"\"\n",
    "\n",
    "    ####IMPLEMENTATION STARTS HERE####\n",
    "    \n",
    "    _, _, LWCC = weak_connectedness(G)\n",
    "    _, _, LSCC = strong_connectedness(G)\n",
    "\n",
    "    ratio_size = LSCC.number_of_nodes() / LWCC.number_of_nodes()\n",
    "\n",
    "    mspl_lscc = max(d for _, dist in nx.all_pairs_shortest_path_length(LSCC) for d in dist.values())\n",
    "    mspl_lwcc = max(d for _, dist in nx.all_pairs_shortest_path_length(LWCC) for d in dist.values())\n",
    "    ratio_mspl = mspl_lscc / mspl_lwcc\n",
    "\n",
    "    ratio_aspl = nx.average_shortest_path_length(LSCC) / nx.average_shortest_path_length(LWCC)\n",
    "\n",
    "    \n",
    "    return ratio_size, ratio_mspl, ratio_aspl\n",
    "\n",
    "    ####IMPLEMENTATION ENDS HERE####"
   ]
  },
  {
   "cell_type": "markdown",
   "id": "f312bf2b-dad1-4c82-9f45-dda700176eb5",
   "metadata": {
    "jp-MarkdownHeadingCollapsed": true
   },
   "source": [
    "# Part 4 <font size=3> [20 pts] Topological Ordering (Programming languages network)"
   ]
  },
  {
   "cell_type": "markdown",
   "id": "9da5632b-eeb9-41bf-9940-22b5dbfd25ca",
   "metadata": {},
   "source": [
    "In Part 4, we will consider a influence network among programming languages. Each node in the network is a programming language. Each directed edge in the network signifies that the source programming language influenced the target programming language in some critical way."
   ]
  },
  {
   "cell_type": "markdown",
   "id": "c1096b2e-0d65-405d-b693-e527acda8ca4",
   "metadata": {},
   "source": [
    "The data for this network is contained in the `language_data.txt` file. Each line of this text file represents one edge. If a line reads `language_A language_B` (separated by exactly one space), then this means that `language_A` influenced `language_B`. In the influence network we will be using, there should be a directed edge from source node `language_A` to target node `language_B`. To confirm that it should be this way, observe that one of the lines in the `language_data.txt` file reads `c c++`. It is commonly known that C++ was developed as an extension to the C language - hence, C influenced the development of C++."
   ]
  },
  {
   "cell_type": "markdown",
   "id": "110854c8-c58f-4502-9997-089a9dcf6656",
   "metadata": {
    "jp-MarkdownHeadingCollapsed": true
   },
   "source": [
    "## 4.1 <font size=3> [2 pts] Loading graph data from a txt (edgelist) file"
   ]
  },
  {
   "cell_type": "markdown",
   "id": "410593d7-48ca-4c0a-b1c6-95a8c98f261b",
   "metadata": {},
   "source": [
    "In the body of the function below, use NetworkX's [`read_edgelist`](https://networkx.org/documentation/stable/reference/readwrite/generated/networkx.readwrite.edgelist.read_edgelist.html) function to read the `language_data.txt` file located within the data folder. Note that the relative path to the file should be `\"data/language_data.txt\"`."
   ]
  },
  {
   "cell_type": "code",
   "execution_count": 174,
   "id": "82c4ed27-b8e4-414b-83ec-8122fb43abd2",
   "metadata": {
    "tags": [
     "export"
    ]
   },
   "outputs": [],
   "source": [
    "def load_language_data() -> nx.DiGraph:\n",
    "    \"\"\"\n",
    "    Return\n",
    "        G       networkx DiGraph\n",
    "    \"\"\"\n",
    "\n",
    "    ####IMPLEMENTATION STARTS HERE####\n",
    "    \n",
    "    # This is a placeholder\n",
    "    G = nx.read_edgelist(\"data/language_data.txt\", create_using=nx.DiGraph(), nodetype=str, data=False)\n",
    "\n",
    "    return G\n",
    "\n",
    "    ####IMPLEMENTATION ENDS HERE####"
   ]
  },
  {
   "cell_type": "markdown",
   "id": "6c6bbbf8-b246-4bd3-af5e-418811793d5e",
   "metadata": {},
   "source": [
    "**Sanity Check**\n",
    "\n",
    "You can print the return graph of the function below and what should be shown is text of the form:\n",
    "\n",
    "> DiGraph with 361 nodes and 735 edges"
   ]
  },
  {
   "cell_type": "code",
   "execution_count": 175,
   "id": "f430b31a-5576-478a-9a1d-e8a19d1c4b24",
   "metadata": {
    "tags": [
     "test"
    ]
   },
   "outputs": [
    {
     "name": "stdout",
     "output_type": "stream",
     "text": [
      "DiGraph with 361 nodes and 735 edges\n"
     ]
    }
   ],
   "source": [
    "print(load_language_data())"
   ]
  },
  {
   "cell_type": "markdown",
   "id": "7f13a7db-4233-456e-b2ab-d23f45161d97",
   "metadata": {},
   "source": [
    "## 4.2 <font size=3> [2 pts] Directed acyclic graph (DAG)"
   ]
  },
  {
   "cell_type": "markdown",
   "id": "bade483c-a1b5-4b73-9c9d-c9c7800d985d",
   "metadata": {},
   "source": [
    "In the body of the function below, use NetworkX's [`is_directed_acyclic_graph`](https://networkx.org/documentation/stable/reference/algorithms/generated/networkx.algorithms.dag.is_directed_acyclic_graph.html) function to determine whether an arbitrary (directed) parameter graph `G` is a directed acyclic graph (DAG). Return a boolean value representing if G is a DAG."
   ]
  },
  {
   "cell_type": "markdown",
   "id": "39d15018-c91a-4902-9c0c-d80d7da711e8",
   "metadata": {},
   "source": [
    "Notes: \n",
    "* 'acyclic' simply means 'no cycles,'\n",
    "* The function below should return a bool value based on the parameter graph `G`. The function is not explicitly tied to the language network."
   ]
  },
  {
   "cell_type": "code",
   "execution_count": 176,
   "id": "4086c20c-e152-4172-9236-2b52f3aae903",
   "metadata": {
    "tags": [
     "export"
    ]
   },
   "outputs": [],
   "source": [
    "def is_graph_dag(G:nx.DiGraph) -> bool:\n",
    "    \"\"\"\n",
    "    Params\n",
    "        G                  networkx DiGraph      arbitrary directed graph\n",
    "\n",
    "    Return\n",
    "        is_dag             bool                  True if parameter graph G is directed and acyclic\n",
    "                                                 False otherwise\n",
    "    \"\"\"\n",
    "\n",
    "    ####IMPLEMENTATION STARTS HERE####\n",
    "    \n",
    "    # This is a placeholder\n",
    "    is_dag = nx.is_directed_acyclic_graph(G)\n",
    "\n",
    "    return is_dag\n",
    "\n",
    "    ####IMPLEMENTATION ENDS HERE####"
   ]
  },
  {
   "cell_type": "markdown",
   "id": "e7601bc7-f45f-41b5-8505-43c18e0dda07",
   "metadata": {},
   "source": [
    "## 4.3 <font size=3> [6 pts] Topological generations of a DAG"
   ]
  },
  {
   "cell_type": "markdown",
   "id": "826845ae-085c-4ed8-a194-8836ba30f917",
   "metadata": {},
   "source": [
    "In the body of the function below, \n",
    "1. Check that the parameter graph `G` is a DAG. If not, return two empty dictionaries. Otherwise, continue to step 2.\n",
    "2. Using the NetworkX function [`topological_generations`](https://networkx.org/documentation/stable/reference/algorithms/generated/networkx.algorithms.dag.topological_generations.html) compute a dictionary, where the keys are integers representing the topological layer, and each value is the list of nodes found in that topological layer. For example, in the 0 layer should be all the so-called *start nodes* that have 0 in-degree."
   ]
  },
  {
   "cell_type": "code",
   "execution_count": 177,
   "id": "7e31f83d-e1c0-4272-9fd4-833c3a2f30f6",
   "metadata": {
    "tags": [
     "export"
    ]
   },
   "outputs": [],
   "source": [
    "def top_gen_dicts(G:nx.DiGraph) -> (dict, dict):\n",
    "    \"\"\"\n",
    "    Params\n",
    "        G                 networkx DiGraph         arbitrary directed graph\n",
    "\n",
    "    Return\n",
    "        top_gen           dict                     dictionary where the\n",
    "                                                   keys are integers 0, 1, 2... \n",
    "                                                       representing topological layers\n",
    "                                                   values are lists of nodes that are \n",
    "                                                       in that topological layer\n",
    "        node_gen          dict                     dictionary where the\n",
    "                                                   keys are nodes of G\n",
    "                                                   values are the topological layer \n",
    "                                                       integer the node is in\n",
    "    \"\"\"\n",
    "\n",
    "    ####IMPLEMENTATION STARTS HERE####\n",
    "    \n",
    "    #These are placeholders\n",
    "    if not nx.is_directed_acyclic_graph(G):\n",
    "        return {}, {}\n",
    "\n",
    "    top_gen = {}\n",
    "    node_gen = {}\n",
    "\n",
    "    for i, gen in enumerate(nx.topological_generations(G)):\n",
    "        gen_list = list(gen)\n",
    "        top_gen[i] = gen_list\n",
    "        for u in gen_list:\n",
    "            node_gen[u] = i\n",
    "\n",
    "    return top_gen, node_gen\n",
    "\n",
    "    ####IMPLEMENTATION ENDS HERE####"
   ]
  },
  {
   "cell_type": "markdown",
   "id": "de260bc1-b89f-48bb-bb28-689ac8b75337",
   "metadata": {},
   "source": [
    "## 4.4 <font size=3> [4 pts] Topological ordering of nodes in a DAG"
   ]
  },
  {
   "cell_type": "markdown",
   "id": "eedcd3ad-517d-4a5a-9149-a9748a7575e9",
   "metadata": {},
   "source": [
    "In the body of the function below, \n",
    "1. Check that the parameter graph `G` is a DAG. If not, return an empty list. Otherwise, continue to step 2.\n",
    "2. Using your function `top_gen_dicts` above, fill in the body of the function below with a computation that will return a list of nodes of the parameter graph `G` that are a topological ordering. In order to receive full credit for this subpart, the function below must call `top_gen_dicts` on the parameter graph and present an ordering that exactly matches the natural ordering provided by that dictionary. NOTE: You do not need to sort the lists in `top_gen` from `top_gen_dicts`. The order of nodes in each list comes directly from `topological_generations`, which already respects the DAG’s dependencies and provides a valid topological order. Sorting would violate this natural ordering."
   ]
  },
  {
   "cell_type": "code",
   "execution_count": 178,
   "id": "9182b0ab-42f7-4c40-a595-9ff7c7c69265",
   "metadata": {
    "tags": [
     "export"
    ]
   },
   "outputs": [],
   "source": [
    "def a_topological_ordering(G:nx.DiGraph) -> list:\n",
    "    \"\"\"\n",
    "    Params\n",
    "        G                 networkx DiGraph         arbitrary directed graph\n",
    "\n",
    "    Return\n",
    "        top_order         list                     a topological ordering of the nodes of G,\n",
    "                                                    must be based on `topological_generations_dict`\n",
    "    \"\"\"\n",
    "\n",
    "    ####IMPLEMENTATION STARTS HERE####\n",
    "    \n",
    "    # This is a placeholder\n",
    "    if not nx.is_directed_acyclic_graph(G):\n",
    "        return []\n",
    "\n",
    "    top_gen, _ = top_gen_dicts(G)\n",
    "    top_order = []\n",
    "    for i in range(len(top_gen)):\n",
    "        top_order.extend(top_gen[i])\n",
    "\n",
    "    return top_order\n",
    "\n",
    "    ####IMPLEMENTATION ENDS HERE####"
   ]
  },
  {
   "cell_type": "markdown",
   "id": "842919c5-eccf-4712-b565-a32a55bee261",
   "metadata": {},
   "source": [
    "## 4.5 <font size=3> [6 pts] Start nodes and highest total influence"
   ]
  },
  {
   "cell_type": "markdown",
   "id": "935a8e53-fc6f-4086-8db3-7dbde87cb2d0",
   "metadata": {},
   "source": [
    "In the body of the function below, \n",
    "1. Check that the parameter graph `G` is a DAG. If not, return an empty dictionary and empty string. Otherwise, continue to steps 2 and 3.\n",
    "2. Using your function `top_gen_dicts` above, for each node in the 0-layer topological layer (these nodes are called *start nodes*), find the total influence of that node in the graph and store it in a dictionary, where the key is the start node name and the value is an integer representing its total influence. The total influence of a start node is equal to the number of descendants the node has at *any distance* from it. For example:\n",
    "    * C influenced C++,\n",
    "    * C++ influenced C#, and\n",
    "    * C# influenced Rust,\n",
    "    * so we would consider C to have influenced Rust.\n",
    "3. Return the name of the node with the highest influence."
   ]
  },
  {
   "cell_type": "code",
   "execution_count": 179,
   "id": "c3712685-749b-4373-8a58-479780ad721b",
   "metadata": {
    "tags": [
     "export"
    ]
   },
   "outputs": [],
   "source": [
    "def start_nodes(G:nx.DiGraph) -> (dict, str):\n",
    "    \"\"\"\n",
    "    Params\n",
    "        G                           networkx DiGraph         arbitrary directed graph\n",
    "\n",
    "    Return\n",
    "        start_node_dict             dict                     dictionary\n",
    "        start_node_highest_inf      str\n",
    "    \"\"\"\n",
    "\n",
    "    ####IMPLEMENTATION STARTS HERE####\n",
    "\n",
    "    if not nx.is_directed_acyclic_graph(G):\n",
    "        return {}, \"\"\n",
    "\n",
    "    top_gen, _ = top_gen_dicts(G)\n",
    "    start_node_dict = {}\n",
    "\n",
    "    start_nodes_list = top_gen.get(0, [])\n",
    "    for u in start_nodes_list:\n",
    "        start_node_dict[u] = len(nx.descendants(G, u))\n",
    "\n",
    "    start_node_highest_inf = max(start_nodes_list, key=lambda x: start_node_dict[x]) if start_nodes_list else \"\"\n",
    "    \n",
    "    return start_node_dict, start_node_highest_inf\n",
    "\n",
    "    ####IMPLEMENTATION ENDS HERE####"
   ]
  },
  {
   "cell_type": "markdown",
   "id": "d9b4026b-b01e-455b-ad55-1fc833019559",
   "metadata": {
    "jp-MarkdownHeadingCollapsed": true
   },
   "source": [
    "# Part 5 <font size=3> [20 pts] Bipartite Graphs and Projections (Github network)"
   ]
  },
  {
   "cell_type": "markdown",
   "id": "4891e4b6-e994-4e26-ad11-8dbcacee3544",
   "metadata": {},
   "source": [
    "The final dataset is a bipartite network based on the association of github users and projects. The `language_data.txt` file contains lines that specify associations between a user on the left and a project on the right. The set of user nodes make up a collective \"left side\" of the network and the set of project nodes make up a collective \"right side\" of the network, with every edge having a user as one end point and a project as the other."
   ]
  },
  {
   "cell_type": "markdown",
   "id": "159233a2-11ad-4096-bed1-ec5d240cd9c5",
   "metadata": {},
   "source": [
    "## 5.1 <font size=3> [2 pts] Checking if a graph is bipartite"
   ]
  },
  {
   "cell_type": "markdown",
   "id": "c04bf0a9-8eec-4a2d-80fa-65847592b5b5",
   "metadata": {},
   "source": [
    "In the body of the function below, use NetworkX's [`is_bipartite`](https://networkx.org/documentation/stable/reference/algorithms/generated/networkx.algorithms.bipartite.basic.is_bipartite.html#networkx.algorithms.bipartite.basic.is_bipartite) function to check whether the parameter graph `G` is bipartite or not."
   ]
  },
  {
   "cell_type": "code",
   "execution_count": 180,
   "id": "56db5fc0-8c46-4850-8ed1-309d8d5b9ac0",
   "metadata": {
    "tags": [
     "export"
    ]
   },
   "outputs": [],
   "source": [
    "def is_graph_bipartite(G:nx.Graph) -> bool:\n",
    "    \"\"\"\n",
    "    Params\n",
    "        G                    networkx Graph            arbitrary graph\n",
    "    Return\n",
    "        graph_is_bp          bool                      boolean determined by whether\n",
    "                                                         parameter graph G is bipartite\n",
    "    \"\"\"\n",
    "\n",
    "    ####IMPLEMENTATION STARTS HERE####\n",
    "\n",
    "    # This is a placeholder\n",
    "    graph_is_bp = nx.is_bipartite(G)\n",
    "\n",
    "    return graph_is_bp\n",
    "\n",
    "    ####IMPLEMENTATION ENDS HERE####"
   ]
  },
  {
   "cell_type": "markdown",
   "id": "29fcb06d-8b49-4b6d-ad6f-d3e1e4840647",
   "metadata": {},
   "source": [
    "## 5.2 <font size=3> [6 pts] Loading graph data from a txt (edgelist) file"
   ]
  },
  {
   "cell_type": "markdown",
   "id": "32f69520-e95d-4986-843b-ff5b37b8bb29",
   "metadata": {},
   "source": [
    "In the body of the function below,\n",
    "1. use NetworkX's [`read_edgelist`](https://networkx.org/documentation/stable/reference/readwrite/generated/networkx.readwrite.edgelist.read_edgelist.html) function to read the `github_data.txt` file located within the data folder. Note that the relative path to the file should be `\"data/github_data.txt\"`,\n",
    "2. store all user nodes in the `user_list` variable, and\n",
    "3. store all project nodes in the `project_list` variable."
   ]
  },
  {
   "cell_type": "code",
   "execution_count": 181,
   "id": "0353734d-2554-489c-85a8-46a8713b7b9e",
   "metadata": {
    "tags": [
     "export"
    ]
   },
   "outputs": [],
   "source": [
    "def load_github_data() -> (nx.Graph, list, list):\n",
    "    \"\"\"\n",
    "    Return\n",
    "        G                  networkx Graph         arbitrary graph\n",
    "        user_list          list                   list of user nodes\n",
    "        project_list       list                   list of project nodes\n",
    "    \"\"\"\n",
    "\n",
    "    ####IMPLEMENTATION STARTS HERE####\n",
    "    \n",
    "    G = nx.read_edgelist(\"data/github_data.txt\", nodetype=str, data=False)\n",
    "    user_list = [n for n in G.nodes if str(n).startswith(\"user\")]\n",
    "    project_list = [n for n in G.nodes if str(n).startswith(\"project\")]\n",
    "\n",
    "    return G, user_list, project_list\n",
    "\n",
    "    ####IMPLEMENTATION ENDS HERE####"
   ]
  },
  {
   "cell_type": "markdown",
   "id": "dd3fae0a-86ac-48b3-8b0d-f87a030f3c11",
   "metadata": {},
   "source": [
    "**Sanity Check**\n",
    "\n",
    "You can print the return graph of the function below and what should be shown is text of the form:\n",
    "\n",
    "> Graph with 177386 nodes and 440237 edges\n",
    "\n",
    "> 56519\n",
    "\n",
    "> 120867"
   ]
  },
  {
   "cell_type": "code",
   "execution_count": 182,
   "id": "2d4ab2ea-0c99-4b38-918c-64f184cf4fa4",
   "metadata": {
    "tags": [
     "test"
    ]
   },
   "outputs": [
    {
     "name": "stdout",
     "output_type": "stream",
     "text": [
      "Graph with 177386 nodes and 440237 edges\n",
      "56519\n",
      "120867\n"
     ]
    }
   ],
   "source": [
    "print(load_github_data()[0])\n",
    "print(len(load_github_data()[1]))\n",
    "print(len(load_github_data()[2]))"
   ]
  },
  {
   "cell_type": "markdown",
   "id": "f9d0a0d2-76b2-4cbd-9862-7fe03afe6ea9",
   "metadata": {},
   "source": [
    "## 5.3 <font size=3> [2 pts] Biadjacency matrix of a bipartite graph"
   ]
  },
  {
   "cell_type": "markdown",
   "id": "e36ecabc-0bbc-49ed-8776-83d702840217",
   "metadata": {},
   "source": [
    "In the body of the function below:\n",
    "1. Check that all the conditions below are met. If at least one of them is not met, return a `None` value. Otherwise continue on to step 2:\n",
    "    * The parameter graph `G` is bipartite,\n",
    "    * The `row_nodes` argument is nonempty and each element is a node of `G`,\n",
    "    * The `column_nodes` argument is nonempty and each element is a node of `G`.\n",
    "2. Using NetworkX's [`biadjacency_matrix`](https://networkx.org/documentation/stable/reference/algorithms/generated/networkx.algorithms.bipartite.matrix.biadjacency_matrix.html) compute and return the biadjacency matrix of the parameter graph `G`. Use NetworkX's [`tolil`](https://docs.scipy.org/doc/scipy/reference/generated/scipy.sparse.csr_array.tolil.html#scipy.sparse.csr_array.tolil) method to convert the biadjacency matrix to the `sp.sparse._arrays.lil_array` format."
   ]
  },
  {
   "cell_type": "code",
   "execution_count": 183,
   "id": "5b28ef6e-8410-4b6f-9867-fc57851525b3",
   "metadata": {
    "tags": [
     "export"
    ]
   },
   "outputs": [],
   "source": [
    "def get_biadjacency_matrix(G:nx.Graph=nx.Graph(), row_nodes:list=[], column_nodes:list=[]) -> sp.sparse._arrays.lil_array:\n",
    "    \"\"\"\n",
    "    Params\n",
    "        G                    networkx Graph                  an arbitrary NetworkX graph\n",
    "        row_nodes            list                            a list of the \"left side\" nodes\n",
    "        column_nodes         list                            a list of the \"right side\" nodes\n",
    "    \n",
    "    Return\n",
    "        B                    sp.sparse._arrays.lil_array     the biadjacency matrix of the graph\n",
    "                                                                (in lil_array format)\n",
    "    \"\"\"\n",
    "\n",
    "    ####IMPLEMENTATION STARTS HERE####\n",
    "    \n",
    "    # These are placeholder lines\n",
    "    if (not nx.is_bipartite(G) or\n",
    "        not row_nodes or not column_nodes or\n",
    "        any(n not in G for n in row_nodes) or\n",
    "        any(n not in G for n in column_nodes)):\n",
    "        return None\n",
    "\n",
    "    B = nx.algorithms.bipartite.matrix.biadjacency_matrix(G, row_nodes, column_nodes)\n",
    "    B = B.tolil()\n",
    "\n",
    "    return B\n",
    "\n",
    "    ####IMPLEMENTATION ENDS HERE####"
   ]
  },
  {
   "cell_type": "markdown",
   "id": "5691c7f2-4104-4ea4-a35b-3e545b84e2e1",
   "metadata": {},
   "source": [
    "## 5.4 <font size=3> [4 pts] Matrix products"
   ]
  },
  {
   "cell_type": "markdown",
   "id": "74ccc58a-3354-4b3e-a987-419609dfb6a9",
   "metadata": {},
   "source": [
    "For a general $m\\times n$ matrix $B$, we *cannot* matrix-multiply $B$ by itself if $m\\neq n$. \n",
    "\n",
    "However, note that we *can always* matrix-multiply $B$ by $B^T$ since $B$ is a $m\\times n$ matrix and $B^T$ is a $n \\times m$ matrix (since the \"inside dimensions\" match), giving a resultant $m\\times m$ matrix $BB^T$. Similarly, we can matrix-multiply $B^T$ by $B$ to get a $n\\times n$ matrix $B^TB$."
   ]
  },
  {
   "cell_type": "markdown",
   "id": "d364884b-f89e-4eb5-97f0-0c500347f256",
   "metadata": {},
   "source": [
    "In the body of the function below, use the [`transpose`](https://docs.scipy.org/doc/scipy/reference/generated/scipy.sparse.csr_matrix.transpose.html) method to transpose a scipy sparse array and the [`@`] symbol to perform matrix multiplication between two scipy sparse arrays. More information about scipy sparse arrays can be found [here](https://docs.scipy.org/doc/scipy/reference/sparse.html)."
   ]
  },
  {
   "cell_type": "code",
   "execution_count": 184,
   "id": "c76bf2ec-131a-4777-b1ae-a157efec6cef",
   "metadata": {
    "tags": [
     "export"
    ]
   },
   "outputs": [],
   "source": [
    "def sparse_array_products(B:sp.sparse._arrays.lil_array) -> (sp.sparse._arrays.lil_array, sp.sparse._arrays.lil_array):\n",
    "    \"\"\"\n",
    "    Params\n",
    "        B                sp.sparse._arrays.lil_array\n",
    "\n",
    "    Return\n",
    "        prod_BBT         sp.sparse._arrays.lil_array\n",
    "        prod_BTB         sp.sparse._arrays.lil_array\n",
    "    \"\"\"\n",
    "\n",
    "    ####IMPLEMENTATION STARTS HERE####\n",
    "    \n",
    "    # These are placeholder lines\n",
    "    BT = B.transpose()\n",
    "    prod_BBT = (B @ BT).tolil()\n",
    "    prod_BTB = (BT @ B).tolil()\n",
    "    \n",
    "    return prod_BBT, prod_BTB\n",
    "\n",
    "    ####IMPLEMENTATION ENDS HERE####"
   ]
  },
  {
   "cell_type": "markdown",
   "id": "e93ca119-013a-4e3f-967f-b9008b6d6cce",
   "metadata": {},
   "source": [
    "## 5.5 <font size=3> [6 pts] One mode projections and greatest commonality"
   ]
  },
  {
   "cell_type": "markdown",
   "id": "5f06606f-f6a2-4e62-ae9a-e1c93cf594a0",
   "metadata": {},
   "source": [
    "The biadjacency matrix $B$ of the gibhub network is a $m\\times n$ matrix, where $m$ is the number of users in the network and $n$ is the number of projects in the network. That is, the rows represent the users and the columns represent the projects. Alternatively, the matrix $B^T$ is a $n\\times m$ matrix where the rows represent the projects and the columns represent the users."
   ]
  },
  {
   "cell_type": "markdown",
   "id": "9bfe3f9f-76e7-4297-a073-4c5babf43066",
   "metadata": {},
   "source": [
    "The matrix-product $BB^T$ is a $m\\times m$ matrix that is the adjacency (note, *not* *bi*-adjacency) matrix of a graph where the nodes consist only of users. This graph is called the one-mode projection on users. Alternatively, the matrix-product $B^TB$ is a $n\\times n$ matrix that is the adjacency matrix of a graph where the nodes consist only of projects. This graph is called the one-mode project on projects."
   ]
  },
  {
   "cell_type": "markdown",
   "id": "c8266aa6-57bc-4105-80d3-be8bf2f9c6c3",
   "metadata": {},
   "source": [
    "Another way to look at the product $BB^T$ is that it is the number of walks of length 2 from one of the user nodes back to a user node. In the case of the github network, which is bipartite, the only way to have a walk of length 2 from a user node back to a user node is for the walk to pass through exactly one project. Thus, the $(i,j)$-entry of $BB^T$ is the number of projects that user i shares with user j. "
   ]
  },
  {
   "cell_type": "markdown",
   "id": "9e8071c9-a220-44ba-a6d7-b445dc6db414",
   "metadata": {},
   "source": [
    "In the body of the function below, use the information above to compute the pair of users who share the greatest number of projects and the pair of projects that share the greatest number of users."
   ]
  },
  {
   "cell_type": "code",
   "execution_count": null,
   "id": "409ff4ac-a5ec-4ba8-a5cc-97f0b54572e0",
   "metadata": {
    "tags": [
     "export"
    ]
   },
   "outputs": [],
   "source": [
    "def greatest_github_commonality() -> (tuple, tuple):\n",
    "    \"\"\"\n",
    "    Return\n",
    "        user_pair           2-tuple         pair of users that share the most projects\n",
    "        project_pair        2-tuple         pair of projects that share the most users\n",
    "    \"\"\"\n",
    "\n",
    "    ####IMPLEMENTATION STARTS HERE####\n",
    "    \n",
    "    # These are placeholders\n",
    "    G_github, user_list, project_list = load_github_data()\n",
    "\n",
    "    # Biadjacency (users = rows, projects = cols)\n",
    "    B = nx.algorithms.bipartite.matrix.biadjacency_matrix(G_github, user_list, project_list)\n",
    "\n",
    "    UU = (B @ B.T).tolil()   # users × users\n",
    "    PP = (B.T @ B).tolil()   # projects × projects\n",
    "\n",
    "    # Ignore self-pairs on the diagonal\n",
    "    UU.setdiag(-1)\n",
    "    PP.setdiag(-1)\n",
    "\n",
    "    # Pick the max off-diagonal pair\n",
    "    iu, ju = np.unravel_index(np.argmax(UU.toarray()), UU.shape)\n",
    "    ip, jp = np.unravel_index(np.argmax(PP.toarray()), PP.shape)\n",
    "\n",
    "    user_pair = (user_list[iu], user_list[ju])\n",
    "    project_pair = (project_list[ip], project_list[jp])\n",
    "\n",
    "    return user_pair, project_pair\n",
    "\n",
    "    ####IMPLEMENTATION ENDS HERE####"
   ]
  }
 ],
 "metadata": {
  "kernelspec": {
   "display_name": "Python 3 (ipykernel)",
   "language": "python",
   "name": "python3"
  },
  "language_info": {
   "codemirror_mode": {
    "name": "ipython",
    "version": 3
   },
   "file_extension": ".py",
   "mimetype": "text/x-python",
   "name": "python",
   "nbconvert_exporter": "python",
   "pygments_lexer": "ipython3",
   "version": "3.8.20"
  }
 },
 "nbformat": 4,
 "nbformat_minor": 5
}
